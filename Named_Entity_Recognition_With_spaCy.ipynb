{
  "nbformat": 4,
  "nbformat_minor": 0,
  "metadata": {
    "colab": {
      "name": "Named Entity Recognition With spaCy.ipynb",
      "provenance": [],
      "collapsed_sections": [],
      "authorship_tag": "ABX9TyPKCVW5NLI4+I6DQPYizif8",
      "include_colab_link": true
    },
    "kernelspec": {
      "name": "python3",
      "display_name": "Python 3"
    }
  },
  "cells": [
    {
      "cell_type": "markdown",
      "metadata": {
        "id": "view-in-github",
        "colab_type": "text"
      },
      "source": [
        "<a href=\"https://colab.research.google.com/github/JWackerow/Named-Entity-Recognition/blob/main/Named_Entity_Recognition_With_spaCy.ipynb\" target=\"_parent\"><img src=\"https://colab.research.google.com/assets/colab-badge.svg\" alt=\"Open In Colab\"/></a>"
      ]
    },
    {
      "cell_type": "code",
      "metadata": {
        "id": "ziNxYelWeYLH"
      },
      "source": [
        "%%capture\n",
        "import numpy as np\n",
        "import pandas as pd\n",
        "\n",
        "import spacy\n",
        "from spacy.matcher import Matcher, PhraseMatcher\n",
        "from spacy import displacy\n",
        "from spacy.tokens import Span\n",
        "\n",
        "!pip install vaderSentiment\n",
        "from vaderSentiment.vaderSentiment import SentimentIntensityAnalyzer\n",
        "\n",
        "from gensim.utils import simple_preprocess\n",
        "\n",
        "# library to clean up spelling variations in named entities\n",
        "#!pip install fuzzywuzzy\n",
        "#from fuzzywuzzy import process, fuzz\n",
        "\n",
        "import pprint\n",
        "\n",
        "from google.colab import drive"
      ],
      "execution_count": 92,
      "outputs": []
    },
    {
      "cell_type": "code",
      "metadata": {
        "colab": {
          "base_uri": "https://localhost:8080/"
        },
        "id": "G-B6-KiFevZh",
        "outputId": "9a888c78-8fa7-44d8-fb17-38c10aedfc32"
      },
      "source": [
        "drive.mount('/content/gdrive/')"
      ],
      "execution_count": 2,
      "outputs": [
        {
          "output_type": "stream",
          "text": [
            "Mounted at /content/gdrive/\n"
          ],
          "name": "stdout"
        }
      ]
    },
    {
      "cell_type": "code",
      "metadata": {
        "id": "17qHbBLXfHRi"
      },
      "source": [
        "data = pd.read_csv(r'/content/gdrive/My Drive/Datasets/Tweets.csv')"
      ],
      "execution_count": 5,
      "outputs": []
    },
    {
      "cell_type": "code",
      "metadata": {
        "colab": {
          "base_uri": "https://localhost:8080/",
          "height": 233
        },
        "id": "PyDwulknfwzF",
        "outputId": "9f4a688c-ed37-4d4e-f3ec-72450304b1be"
      },
      "source": [
        "data.head(2)"
      ],
      "execution_count": 7,
      "outputs": [
        {
          "output_type": "execute_result",
          "data": {
            "text/html": [
              "<div>\n",
              "<style scoped>\n",
              "    .dataframe tbody tr th:only-of-type {\n",
              "        vertical-align: middle;\n",
              "    }\n",
              "\n",
              "    .dataframe tbody tr th {\n",
              "        vertical-align: top;\n",
              "    }\n",
              "\n",
              "    .dataframe thead th {\n",
              "        text-align: right;\n",
              "    }\n",
              "</style>\n",
              "<table border=\"1\" class=\"dataframe\">\n",
              "  <thead>\n",
              "    <tr style=\"text-align: right;\">\n",
              "      <th></th>\n",
              "      <th>tweet_id</th>\n",
              "      <th>airline_sentiment</th>\n",
              "      <th>airline_sentiment_confidence</th>\n",
              "      <th>negativereason</th>\n",
              "      <th>negativereason_confidence</th>\n",
              "      <th>airline</th>\n",
              "      <th>airline_sentiment_gold</th>\n",
              "      <th>name</th>\n",
              "      <th>negativereason_gold</th>\n",
              "      <th>retweet_count</th>\n",
              "      <th>text</th>\n",
              "      <th>tweet_coord</th>\n",
              "      <th>tweet_created</th>\n",
              "      <th>tweet_location</th>\n",
              "      <th>user_timezone</th>\n",
              "    </tr>\n",
              "  </thead>\n",
              "  <tbody>\n",
              "    <tr>\n",
              "      <th>0</th>\n",
              "      <td>570306133677760513</td>\n",
              "      <td>neutral</td>\n",
              "      <td>1.0000</td>\n",
              "      <td>NaN</td>\n",
              "      <td>NaN</td>\n",
              "      <td>Virgin America</td>\n",
              "      <td>NaN</td>\n",
              "      <td>cairdin</td>\n",
              "      <td>NaN</td>\n",
              "      <td>0</td>\n",
              "      <td>@VirginAmerica What @dhepburn said.</td>\n",
              "      <td>NaN</td>\n",
              "      <td>2015-02-24 11:35:52 -0800</td>\n",
              "      <td>NaN</td>\n",
              "      <td>Eastern Time (US &amp; Canada)</td>\n",
              "    </tr>\n",
              "    <tr>\n",
              "      <th>1</th>\n",
              "      <td>570301130888122368</td>\n",
              "      <td>positive</td>\n",
              "      <td>0.3486</td>\n",
              "      <td>NaN</td>\n",
              "      <td>0.0</td>\n",
              "      <td>Virgin America</td>\n",
              "      <td>NaN</td>\n",
              "      <td>jnardino</td>\n",
              "      <td>NaN</td>\n",
              "      <td>0</td>\n",
              "      <td>@VirginAmerica plus you've added commercials t...</td>\n",
              "      <td>NaN</td>\n",
              "      <td>2015-02-24 11:15:59 -0800</td>\n",
              "      <td>NaN</td>\n",
              "      <td>Pacific Time (US &amp; Canada)</td>\n",
              "    </tr>\n",
              "  </tbody>\n",
              "</table>\n",
              "</div>"
            ],
            "text/plain": [
              "             tweet_id  ...               user_timezone\n",
              "0  570306133677760513  ...  Eastern Time (US & Canada)\n",
              "1  570301130888122368  ...  Pacific Time (US & Canada)\n",
              "\n",
              "[2 rows x 15 columns]"
            ]
          },
          "metadata": {
            "tags": []
          },
          "execution_count": 7
        }
      ]
    },
    {
      "cell_type": "code",
      "metadata": {
        "colab": {
          "base_uri": "https://localhost:8080/"
        },
        "id": "m94t8O6ffzXx",
        "outputId": "a0c19987-d5ab-4031-a740-f0a7a86ff7c0"
      },
      "source": [
        "data.info()"
      ],
      "execution_count": 9,
      "outputs": [
        {
          "output_type": "stream",
          "text": [
            "<class 'pandas.core.frame.DataFrame'>\n",
            "RangeIndex: 14640 entries, 0 to 14639\n",
            "Data columns (total 15 columns):\n",
            " #   Column                        Non-Null Count  Dtype  \n",
            "---  ------                        --------------  -----  \n",
            " 0   tweet_id                      14640 non-null  int64  \n",
            " 1   airline_sentiment             14640 non-null  object \n",
            " 2   airline_sentiment_confidence  14640 non-null  float64\n",
            " 3   negativereason                9178 non-null   object \n",
            " 4   negativereason_confidence     10522 non-null  float64\n",
            " 5   airline                       14640 non-null  object \n",
            " 6   airline_sentiment_gold        40 non-null     object \n",
            " 7   name                          14640 non-null  object \n",
            " 8   negativereason_gold           32 non-null     object \n",
            " 9   retweet_count                 14640 non-null  int64  \n",
            " 10  text                          14640 non-null  object \n",
            " 11  tweet_coord                   1019 non-null   object \n",
            " 12  tweet_created                 14640 non-null  object \n",
            " 13  tweet_location                9907 non-null   object \n",
            " 14  user_timezone                 9820 non-null   object \n",
            "dtypes: float64(2), int64(2), object(11)\n",
            "memory usage: 1.7+ MB\n"
          ],
          "name": "stdout"
        }
      ]
    },
    {
      "cell_type": "code",
      "metadata": {
        "id": "p5W5i3gV3Q-n"
      },
      "source": [
        "nlp = spacy.load(\"en_core_web_sm\")\n",
        "\n",
        "# Drop na if they exist and pull out tweet text\n",
        "texts = data.loc[data['text'].isna() == False, 'text']\n",
        "\n",
        "# Preprocess texts using gensim\n",
        "#tweets = [' '.join(simple_preprocess(doc, deacc=True, )) for doc in tweets]\n",
        "\n",
        "# Create list of documents\n",
        "docs = [nlp(doc.lower()) for doc in texts]\n",
        "\n",
        "# Create a list of documents that contain a named entity\n",
        "docs_with_ents = list(filter(lambda x: x.ents, docs))\n",
        "\n",
        "# Print total number of docs and \n",
        "print(len(docs), len(docs_with_ents))"
      ],
      "execution_count": 11,
      "outputs": []
    },
    {
      "cell_type": "code",
      "metadata": {
        "id": "CBLjkzxJLwdU"
      },
      "source": [
        "def show_ents(doc):\n",
        "  if doc.ents: \n",
        "    for ent in doc.ents: print(ent.text+' - ' +str(ent.start_char) +' - '+ str(ent.end_char) +' - '+ent.label_+ ' - '+str(spacy.explain(ent.label_))) \n",
        "  else: print('No named entities found.')"
      ],
      "execution_count": 15,
      "outputs": []
    },
    {
      "cell_type": "code",
      "metadata": {
        "colab": {
          "base_uri": "https://localhost:8080/",
          "height": 120
        },
        "id": "lfFFV8-K6T2f",
        "outputId": "7e097d5e-358b-4c87-b121-b1056fd431e8"
      },
      "source": [
        "# Print and display named entities in one of the documents\n",
        "sample_doc = docs_with_ents[11]\n",
        "show_ents(sample_doc)\n",
        "\n",
        "displacy.render(sample_doc, style='ent', jupyter=True)"
      ],
      "execution_count": 28,
      "outputs": [
        {
          "output_type": "stream",
          "text": [
            "@virginamerica - 0 - 14 - ORG - Companies, agencies, institutions, etc.\n",
            "2nd - 68 - 71 - ORDINAL - \"first\", \"second\", etc.\n",
            "@australia &amp - 80 - 95 - ORG - Companies, agencies, institutions, etc.\n",
            "1st - 123 - 126 - ORDINAL - \"first\", \"second\", etc.\n"
          ],
          "name": "stdout"
        },
        {
          "output_type": "display_data",
          "data": {
            "text/html": [
              "<span class=\"tex2jax_ignore\"><div class=\"entities\" style=\"line-height: 2.5; direction: ltr\">\n",
              "<mark class=\"entity\" style=\"background: #7aecec; padding: 0.45em 0.6em; margin: 0 0.25em; line-height: 1; border-radius: 0.35em;\">\n",
              "    @virginamerica\n",
              "    <span style=\"font-size: 0.8em; font-weight: bold; line-height: 1; border-radius: 0.35em; text-transform: uppercase; vertical-align: middle; margin-left: 0.5rem\">ORG</span>\n",
              "</mark>\n",
              " this is such a great deal! already thinking about my \n",
              "<mark class=\"entity\" style=\"background: #e4e7d2; padding: 0.45em 0.6em; margin: 0 0.25em; line-height: 1; border-radius: 0.35em;\">\n",
              "    2nd\n",
              "    <span style=\"font-size: 0.8em; font-weight: bold; line-height: 1; border-radius: 0.35em; text-transform: uppercase; vertical-align: middle; margin-left: 0.5rem\">ORDINAL</span>\n",
              "</mark>\n",
              " trip to \n",
              "<mark class=\"entity\" style=\"background: #7aecec; padding: 0.45em 0.6em; margin: 0 0.25em; line-height: 1; border-radius: 0.35em;\">\n",
              "    @australia &amp;amp\n",
              "    <span style=\"font-size: 0.8em; font-weight: bold; line-height: 1; border-radius: 0.35em; text-transform: uppercase; vertical-align: middle; margin-left: 0.5rem\">ORG</span>\n",
              "</mark>\n",
              "; i haven't even gone on my \n",
              "<mark class=\"entity\" style=\"background: #e4e7d2; padding: 0.45em 0.6em; margin: 0 0.25em; line-height: 1; border-radius: 0.35em;\">\n",
              "    1st\n",
              "    <span style=\"font-size: 0.8em; font-weight: bold; line-height: 1; border-radius: 0.35em; text-transform: uppercase; vertical-align: middle; margin-left: 0.5rem\">ORDINAL</span>\n",
              "</mark>\n",
              " trip yet! ;p</div></span>"
            ],
            "text/plain": [
              "<IPython.core.display.HTML object>"
            ]
          },
          "metadata": {
            "tags": []
          }
        }
      ]
    },
    {
      "cell_type": "code",
      "metadata": {
        "colab": {
          "base_uri": "https://localhost:8080/"
        },
        "id": "30Flo8NUTOjp",
        "outputId": "b80ec70e-6472-496d-d3b6-10191342348a"
      },
      "source": [
        "# Print inside, outside, beginning status of each token\n",
        "for token in sample_doc:\n",
        "  print(token.text, token.ent_iob_, token.ent_type_, spacy.explain(token.ent_type_))"
      ],
      "execution_count": 37,
      "outputs": [
        {
          "output_type": "stream",
          "text": [
            "@virginamerica B ORG Companies, agencies, institutions, etc.\n",
            "this O  None\n",
            "is O  None\n",
            "such O  None\n",
            "a O  None\n",
            "great O  None\n",
            "deal O  None\n",
            "! O  None\n",
            "already O  None\n",
            "thinking O  None\n",
            "about O  None\n",
            "my O  None\n",
            "2nd B ORDINAL \"first\", \"second\", etc.\n",
            "trip O  None\n",
            "to O  None\n",
            "@australia B ORG Companies, agencies, institutions, etc.\n",
            "& I ORG Companies, agencies, institutions, etc.\n",
            "amp I ORG Companies, agencies, institutions, etc.\n",
            "; O  None\n",
            "i O  None\n",
            "have O  None\n",
            "n't O  None\n",
            "even O  None\n",
            "gone O  None\n",
            "on O  None\n",
            "my O  None\n",
            "1st B ORDINAL \"first\", \"second\", etc.\n",
            "trip O  None\n",
            "yet O  None\n",
            "! O  None\n",
            "; O  None\n",
            "p O  None\n"
          ],
          "name": "stdout"
        }
      ]
    },
    {
      "cell_type": "code",
      "metadata": {
        "id": "Pru2ffTUGhan"
      },
      "source": [
        "# Get sentment scores for each document a named entity appears in\n",
        "def entity_sentiment(docs, ent_labels_to_analyze=[\"ORG\"]):\n",
        "  '''\n",
        "  Calculates the mean sentiment score and frequency count for each named entity. \n",
        "\n",
        "  Parameters\n",
        "  ----------\n",
        "  docs : list\n",
        "    List of spaCy documents.\n",
        "  \n",
        "  ent_labels_to_analyze : list\n",
        "    List of named entity labels to analyze.\n",
        "\n",
        "  Returns\n",
        "  -------\n",
        "  dict\n",
        "    A dictionary with named entity text as keys and the frequency count and mean sentiment score as values.\n",
        "\n",
        "  '''\n",
        "  vader = SentimentIntensityAnalyzer()\n",
        "  ent_sentiment = dict()\n",
        "  for doc in docs_with_ents:\n",
        "    for ent in doc.ents:\n",
        "      if ent.label_ in ent_labels_to_analyze:\n",
        "        if ent.text in ent_sentiment:\n",
        "          ent_sentiment[ent.text][0] += 1\n",
        "          ent_sentiment[ent.text][1].append(vader.polarity_scores(doc.text)['compound'])\n",
        "        else:\n",
        "          ent_sentiment[ent.text] = [1, [vader.polarity_scores(doc.text)['compound']]]\n",
        "  for k, v in ent_sentiment.items():\n",
        "    ent_sentiment[k][1] = np.mean(ent_sentiment[k][1])\n",
        "  return ent_sentiment"
      ],
      "execution_count": 107,
      "outputs": []
    },
    {
      "cell_type": "code",
      "metadata": {
        "id": "9Xpnp6FeRjZ0"
      },
      "source": [
        "def show_sentiment_scores(scores, sort_by='score', min_count=5, max_shown=30):\n",
        "  '''\n",
        "  Prints entities, their frequency count, and their mean sentiment scores.\n",
        "\n",
        "  Parameters\n",
        "  ----------\n",
        "  scores : dict\n",
        "    Dictionary containing named entities and the keys and counts and mean sentiment scores as values.\n",
        "  \n",
        "  sort_by : str\n",
        "    Value to sort by. Can either be 'count' or 'score'.\n",
        "  \n",
        "  min_count : int\n",
        "    Minimum number of times an entity must appear in the tweets to be included.\n",
        "\n",
        "  max_shown : int\n",
        "    Maximum number of entities to be shown.\n",
        "\n",
        "  '''\n",
        "  sort_index = {'count':0, 'score':1}[sort_by]\n",
        "  sentiment_scores = sorted(scores.items(), key=lambda x: x[1][sort_index], reverse=True)\n",
        "  sentiment_scores = list(filter(lambda x: x[1][0] > min_count, sentiment_scores))\n",
        "  max_shown = np.min([len(sentiment_scores), max_shown])\n",
        "  pprint.pprint(sentiment_scores[:max_shown])"
      ],
      "execution_count": 108,
      "outputs": []
    },
    {
      "cell_type": "code",
      "metadata": {
        "id": "RDLCOlj3V9sN"
      },
      "source": [
        "# Get the sentiment for named entities in tweets (ORGs)\n",
        "named_entity_sentiment = entity_sentiment(docs_with_ents)"
      ],
      "execution_count": 97,
      "outputs": []
    },
    {
      "cell_type": "code",
      "metadata": {
        "colab": {
          "base_uri": "https://localhost:8080/"
        },
        "id": "VkjctsaAXTbK",
        "outputId": "b9aef175-2143-4b8b-ee77-dd9aaed75b95"
      },
      "source": [
        "# Print list of entities with top sentiment scores\n",
        "show_sentiment_scores(named_entity_sentiment)"
      ],
      "execution_count": 102,
      "outputs": [
        {
          "output_type": "stream",
          "text": [
            "[('☺', [8, 0.6623249999999999]),\n",
            " ('@southwestair @fortunemagazine', [11, 0.6298727272727273]),\n",
            " ('united airlines', [13, 0.5018923076923076]),\n",
            " ('@virginamerica @ladygaga @carrieunderwood', [6, 0.49804999999999994]),\n",
            " ('united', [29, 0.4650275862068964]),\n",
            " ('pdx', [13, 0.37922307692307694]),\n",
            " ('mci', [6, 0.3641833333333333]),\n",
            " ('ios', [9, 0.28865555555555555]),\n",
            " ('aus', [7, 0.2809714285714286]),\n",
            " ('iad', [25, 0.22350799999999998]),\n",
            " ('&amp', [34, 0.2085558823529412]),\n",
            " ('@virginamerica', [452, 0.1597466814159292]),\n",
            " ('cont', [6, 0.15163333333333331]),\n",
            " ('@southwestair', [1899, 0.14443712480252763]),\n",
            " ('@delta', [56, 0.13226428571428572]),\n",
            " ('nyc', [7, 0.11657142857142858]),\n",
            " ('app', [17, 0.11309411764705883]),\n",
            " ('@jetblue airways', [14, 0.1015642857142857]),\n",
            " ('american airlines', [10, 0.08681000000000001]),\n",
            " ('delta', [7, 0.0775]),\n",
            " ('flight &amp', [7, 0.051328571428571425]),\n",
            " ('mia', [8, 0.0442375]),\n",
            " ('@jetblue', [549, 0.043553005464480876]),\n",
            " ('time &amp', [6, 0.032116666666666675]),\n",
            " ('@jetblue airways corporation', [6, 0.03203333333333333]),\n",
            " ('@wsj', [7, 0.028014285714285714]),\n",
            " ('us airways', [27, -0.006685185185185189]),\n",
            " ('u', [24, -0.02254166666666668]),\n",
            " ('sna', [9, -0.033999999999999954]),\n",
            " ('abc', [6, -0.05236666666666668])]\n"
          ],
          "name": "stdout"
        }
      ]
    }
  ]
}